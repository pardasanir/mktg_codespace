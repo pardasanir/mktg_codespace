{
  "cells": [
    {
      "cell_type": "markdown",
      "metadata": {
        "id": "-UW1zWaS4tF8"
      },
      "source": [
        "# Assignment 1: Python Practice (Marketing Analytics)\n",
        "## Your name:\n",
        "\n",
        "Submit the completed file to Canvas."
      ]
    },
    {
      "cell_type": "markdown",
      "metadata": {
        "id": "Fv_u4SM24tGB"
      },
      "source": [
        "## Q1\n",
        "\n",
        "Complete the cell below by adding the following steps:\n",
        "\n",
        "1. Convert y to an integer\n",
        "2. Compute x + y\n",
        "3. Print the result"
      ]
    },
    {
      "cell_type": "code",
      "execution_count": 3,
      "metadata": {
        "id": "A3iToL_n4tGB",
        "outputId": "d564facc-3bd3-41ad-c143-ab8368738253",
        "colab": {
          "base_uri": "https://localhost:8080/"
        }
      },
      "outputs": [
        {
          "output_type": "execute_result",
          "data": {
            "text/plain": [
              "15"
            ]
          },
          "metadata": {},
          "execution_count": 3
        }
      ],
      "source": [
        "x = 5\n",
        "y = 10\n",
        "\n",
        "x + y"
      ]
    },
    {
      "cell_type": "markdown",
      "metadata": {
        "id": "4sn9VHbf4tGD"
      },
      "source": [
        "## Q2\n",
        "\n",
        "Complete the cell below to compute the boolean value of the comparison m > n\n"
      ]
    },
    {
      "cell_type": "code",
      "execution_count": 4,
      "metadata": {
        "id": "1lzC0EUr4tGE",
        "outputId": "61f6fd0f-6e5a-44a4-8f23-4cc4dff59036",
        "colab": {
          "base_uri": "https://localhost:8080/"
        }
      },
      "outputs": [
        {
          "output_type": "execute_result",
          "data": {
            "text/plain": [
              "False"
            ]
          },
          "metadata": {},
          "execution_count": 4
        }
      ],
      "source": [
        "m = 20\n",
        "n = 50\n",
        "\n",
        "m > n"
      ]
    },
    {
      "cell_type": "markdown",
      "metadata": {
        "id": "246z9ybV4tGE"
      },
      "source": [
        "## Q3\n",
        "\n",
        "Identify the error in the following code and provide a corrected version."
      ]
    },
    {
      "cell_type": "code",
      "execution_count": 5,
      "metadata": {
        "id": "e_dDQC5C4tGE",
        "colab": {
          "base_uri": "https://localhost:8080/"
        },
        "outputId": "7ea2cc83-0004-4914-d920-0abc458e7ecf"
      },
      "outputs": [
        {
          "output_type": "stream",
          "name": "stdout",
          "text": [
            "42.5Hello\n"
          ]
        }
      ],
      "source": [
        "a = 42.5\n",
        "b = \"Hello\"\n",
        "print(str(a) + b)\n",
        "\n"
      ]
    },
    {
      "cell_type": "markdown",
      "metadata": {
        "id": "84Kso5SF4tGF"
      },
      "source": [
        "## Q4\n",
        "\n",
        "Write a function that checks if a number is greater than 50. Return True if it is, and False otherwise."
      ]
    },
    {
      "cell_type": "code",
      "execution_count": 9,
      "metadata": {
        "id": "kLmy5j6z4tGF",
        "colab": {
          "base_uri": "https://localhost:8080/"
        },
        "outputId": "90551d40-5c92-489e-ee7b-50efcf7e9b35"
      },
      "outputs": [
        {
          "output_type": "stream",
          "name": "stdout",
          "text": [
            "True\n",
            "False\n"
          ]
        }
      ],
      "source": [
        "def is_greater_than_50(my_num):\n",
        "    if my_num > 50:\n",
        "        return True\n",
        "    else:\n",
        "        return False\n",
        "\n",
        "# Example usage:\n",
        "print(is_greater_than_50(75))  # True\n",
        "print(is_greater_than_50(25))  # False"
      ]
    },
    {
      "cell_type": "markdown",
      "metadata": {
        "id": "fRMDQJYH4tGF"
      },
      "source": [
        "## Q5\n",
        "\n",
        "Given a list of numbers, \"numbers\", write code to print whether each number is greater than or equal to 30 using a for loop.\n",
        "- If a number is greater than or equal to 30, print the number itself and also the string \"at least 30\"\n",
        "- If a number is less than 30, print the number itself and the string \"less than 30\""
      ]
    },
    {
      "cell_type": "code",
      "execution_count": 11,
      "metadata": {
        "id": "ZvYytq8d4tGG",
        "colab": {
          "base_uri": "https://localhost:8080/"
        },
        "outputId": "775a5c50-907d-405b-cdae-aca4683dfe68"
      },
      "outputs": [
        {
          "output_type": "stream",
          "name": "stdout",
          "text": [
            "10 less than 30\n",
            "23 less than 30\n",
            "45 at least 30\n",
            "60 at least 30\n",
            "17 less than 30\n"
          ]
        }
      ],
      "source": [
        "numbers = [10, 23, 45, 60, 17]\n",
        "for num in numbers:\n",
        "    if num >= 30:\n",
        "        print(f\"{num} at least 30\")\n",
        "    else:\n",
        "        print(f\"{num} less than 30\")"
      ]
    },
    {
      "cell_type": "markdown",
      "metadata": {
        "id": "JOkJJdW_4tGG"
      },
      "source": [
        "## Q6\n",
        "1. Using list comprehension, create a new list where each number from \"numbers_2\" is divided by 2.\n",
        "2. Name the new list \"numbers_new\".\n",
        "3. Print the list.\n"
      ]
    },
    {
      "cell_type": "code",
      "execution_count": 12,
      "metadata": {
        "id": "_4T3ctdi4tGG",
        "colab": {
          "base_uri": "https://localhost:8080/"
        },
        "outputId": "101242f1-82f1-475b-b2fb-271c5e882814"
      },
      "outputs": [
        {
          "output_type": "stream",
          "name": "stdout",
          "text": [
            "[0.5, 1.0, 1.5, 2.0, 2.5, 3.0, 3.5, 4.0, 4.5, 5.0]\n"
          ]
        }
      ],
      "source": [
        "numbers_2 = [1, 2, 3, 4, 5, 6, 7, 8, 9, 10]\n",
        "numbers_new = [num / 2 for num in numbers_2]\n",
        "print(numbers_new)\n"
      ]
    },
    {
      "cell_type": "markdown",
      "metadata": {
        "id": "T4Pn9lI14tGG"
      },
      "source": [
        "## Q7\n",
        "\n",
        "You are given a dictionary named \"student_scores\".\n",
        "\n",
        "1. Add a new student Eva with a score of 80 to the dictionary\n",
        "2. Print the whole dictionary\n",
        "3. Print specifically Charlie's Score"
      ]
    },
    {
      "cell_type": "code",
      "execution_count": 13,
      "metadata": {
        "id": "p9N9OxHf4tGH",
        "colab": {
          "base_uri": "https://localhost:8080/"
        },
        "outputId": "8b474988-b3b4-4bca-e3c8-8e8781deee34"
      },
      "outputs": [
        {
          "output_type": "stream",
          "name": "stdout",
          "text": [
            "{'Alice': 85, 'Bob': 92, 'Charlie': 78, 'Diana': 90, 'Eva': 80}\n",
            "78\n"
          ]
        }
      ],
      "source": [
        "student_scores = {\"Alice\": 85, \"Bob\": 92, \"Charlie\": 78, \"Diana\": 90}\n",
        "student_scores[\"Eva\"] = 80\n",
        "print(student_scores)\n",
        "print(student_scores[\"Charlie\"])"
      ]
    },
    {
      "cell_type": "markdown",
      "metadata": {
        "id": "laeLg_Z14tGH"
      },
      "source": [
        "## Q8\n",
        "\n",
        "Write a function called \"sum_of_squares\" that takes a list of numbers as input and returns the sum of the squares of all the numbers in the list.\n",
        "For example, when running the following line of code, the output should be 14\n",
        "\n",
        "sum_of_squares([1, 2, 3])  # Output should be 14\n",
        "\n",
        "\n"
      ]
    },
    {
      "cell_type": "code",
      "execution_count": 17,
      "metadata": {
        "id": "enZYHDUT4tGH",
        "colab": {
          "base_uri": "https://localhost:8080/"
        },
        "outputId": "0268b71e-56fd-4a0f-8f12-3e58e686029b"
      },
      "outputs": [
        {
          "output_type": "execute_result",
          "data": {
            "text/plain": [
              "14"
            ]
          },
          "metadata": {},
          "execution_count": 17
        }
      ],
      "source": [
        "# Define your function here\n",
        "def sum_of_squares(numbers):\n",
        "    total = 0\n",
        "    for num in numbers:\n",
        "        total += num ** 2\n",
        "    return total\n",
        "# The following line should return 14\n",
        "sum_of_squares([1,2,3])"
      ]
    },
    {
      "cell_type": "markdown",
      "metadata": {
        "id": "rwqpSe7G4tGI"
      },
      "source": [
        "## Rename the file to Lastname_Firstname_Assignment1.ipynb.\n",
        "## Download this file to your computer. Then submit the downloaded file to Canvas."
      ]
    },
    {
      "cell_type": "markdown",
      "metadata": {
        "id": "N8z-X4S64tGI"
      },
      "source": []
    }
  ],
  "metadata": {
    "kernelspec": {
      "display_name": "mktg6234",
      "language": "python",
      "name": "python3"
    },
    "language_info": {
      "codemirror_mode": {
        "name": "ipython",
        "version": 3
      },
      "file_extension": ".py",
      "mimetype": "text/x-python",
      "name": "python",
      "nbconvert_exporter": "python",
      "pygments_lexer": "ipython3",
      "version": "3.12.2"
    },
    "colab": {
      "provenance": []
    }
  },
  "nbformat": 4,
  "nbformat_minor": 0
}